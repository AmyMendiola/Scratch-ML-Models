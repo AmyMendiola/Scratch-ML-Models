{
 "cells": [
  {
   "cell_type": "code",
   "execution_count": 1,
   "id": "18ee924f-dfd8-40e4-8138-b8dfa16bf391",
   "metadata": {},
   "outputs": [
    {
     "name": "stdout",
     "output_type": "stream",
     "text": [
      "features: ['alcohol', 'malic_acid', 'ash', 'alcalinity_of_ash', 'magnesium', 'total_phenols', 'flavanoids', 'nonflavanoid_phenols', 'proanthocyanins', 'color_intensity', 'hue', 'od280/od315_of_diluted_wines', 'proline']\n",
      "\n",
      "targets:  ['class_0' 'class_1' 'class_2']\n",
      "\n"
     ]
    }
   ],
   "source": [
    "#Import scikit-learn dataset library\n",
    "from sklearn import datasets, preprocessing\n",
    "from sklearn.model_selection import train_test_split\n",
    "import numpy as np\n",
    "\n",
    "#Load dataset\n",
    "wine = datasets.load_wine()\n",
    "print('features: ' + str(wine.feature_names) + '\\n')\n",
    "print('targets:  ' + str(wine.target_names) + '\\n')\n",
    "\n",
    "X_train, X_test, y_train, y_test = train_test_split(wine.data, wine.target, test_size=0.3) # 70% training and 30% test\n",
    "t_samples, t_features = X_train.shape"
   ]
  },
  {
   "cell_type": "code",
   "execution_count": 2,
   "id": "f80ea1a0-cef4-4972-ab3f-89053a9be5a9",
   "metadata": {},
   "outputs": [],
   "source": [
    "#euclidean_distance\n",
    "def distance(x, x_train):\n",
    "    return(np.sqrt(np.sum(x - x_train)**2))\n",
    "\n",
    "#predict for each x in test\n",
    "def predictions(X_test,y_test,k): \n",
    "   predictions = []\n",
    "   for x in X_test:\n",
    "      prediction = predict(x,k)\n",
    "      predictions.append(prediction)\n",
    "\n",
    "   accuracy = np.sum(predictions==y_test)/(y_test.__len__())\n",
    "   return('KNN accuracy: ' + str(accuracy))\n",
    "\n",
    "def predict(x,k):\n",
    "   distances = []\n",
    "   for x_t in X_train:\n",
    "      d = distance(x, x_t)\n",
    "      distances.append(d)\n",
    "\n",
    "   #order distances in asc, get closest k\n",
    "   k_sorted_index = np.argsort(distances)[:k]\n",
    "   k_nearest_label = []\n",
    "   for i in k_sorted_index:\n",
    "      k_nearest_label.append(y_train[i])\n",
    "\n",
    "   #get most common neighbor label\n",
    "   pred = max(set(k_nearest_label), key=k_nearest_label.count)\n",
    "\n",
    "   return(pred)"
   ]
  },
  {
   "cell_type": "code",
   "execution_count": 3,
   "id": "9661a716-c515-451b-b4ad-4ac789a85495",
   "metadata": {},
   "outputs": [
    {
     "name": "stdout",
     "output_type": "stream",
     "text": [
      "\n",
      "**kNN FROM SCRATCH**\n",
      "\n",
      "Test data: KNN accuracy: 0.7222222222222222\n",
      "Train data: KNN accuracy: 0.7338709677419355\n",
      "\n",
      "**SKLEARN COMPARISON**\n",
      "\n",
      "Test Accuracy: 0.7407407407407407\n",
      "Train Accuracy: 0.717741935483871\n"
     ]
    }
   ],
   "source": [
    "print('\\n**kNN FROM SCRATCH**\\n')\n",
    "print('Test data: ' + str(predictions(X_test,y_test,10)))\n",
    "print('Train data: ' + str(predictions(X_train,y_train,10)))\n",
    "\n",
    "# **Sklearn model**\n",
    "from sklearn.neighbors import KNeighborsClassifier\n",
    "from sklearn import metrics\n",
    "knn = KNeighborsClassifier(n_neighbors=10)\n",
    "knn.fit(X_train, y_train)\n",
    "\n",
    "#Predict the response for test dataset\n",
    "y_pred = knn.predict(X_test)\n",
    "y_pred_train = knn.predict(X_train)\n",
    "\n",
    "# Model Accuracy, how often is the classifier correct?\n",
    "print('\\n**SKLEARN COMPARISON**\\n')\n",
    "print('Test Accuracy:',metrics.accuracy_score(y_test, y_pred))\n",
    "print('Train Accuracy:',metrics.accuracy_score(y_train, y_pred_train))"
   ]
  }
 ],
 "metadata": {
  "kernelspec": {
   "display_name": "Python 3 (ipykernel)",
   "language": "python",
   "name": "python3"
  },
  "language_info": {
   "codemirror_mode": {
    "name": "ipython",
    "version": 3
   },
   "file_extension": ".py",
   "mimetype": "text/x-python",
   "name": "python",
   "nbconvert_exporter": "python",
   "pygments_lexer": "ipython3",
   "version": "3.11.6"
  }
 },
 "nbformat": 4,
 "nbformat_minor": 5
}
